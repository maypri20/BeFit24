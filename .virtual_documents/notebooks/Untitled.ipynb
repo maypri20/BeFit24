import pandas as pd
import yaml

try:
    with open("../config.yaml", "r") as file:
        config = yaml.safe_load(file)
except:
    print("Yaml configuration file not found!")

df = pd.read_csv(config['input_data']['file'])
df


df.info()


df.duplicated().sum()


drop_cols = ['meal_name',"rating", "bmi_calc_check", "water_intake_liters", "workout_frequency_days/week", "experience_level", "daily_meals_frequency", "physical_exercise", 
    "Name of Exercise", "Sets", "Reps", "Benefit",
    "Burns Calories (per 30 min)", "Burns Calories (per 30 min)_bc",
    "Target Muscle Group", "Equipment Needed",
    "Difficulty Level", "Body Part", "Type of Muscle", "Workout",
    "serving_size_g", "cooking_method", "prep_time_min", "cook_time_min",
    "BMI_calc", "cal_from_macros", "pct_HRR", "pct_maxHR",
    "expected_burn", "Burns_Calories_Bin"
]

df = df.drop(columns=drop_cols, errors="ignore")


#renaming columns, removing spaces and paranthesis
df.columns = (df.columns.str.strip().str.lower().str.replace(" ", "_").str.replace("[()]", "", regex=True))
df.head()


for col in ["gender", "diet_type", "meal_type", "workout_type"]:
    df[col] = df[col].str.strip().str.title()


#df["bmi_calc_check"] = (df["weight_kg"] / (df["height_m"] ** 2)).round(2)
#df[["bmi", "bmi_calc_check"]].head()


df.describe().T


# Convert age to integer safely
df["age"] = df["age"].fillna(0).astype(int)


df.info()


df


df['meal_type'].unique()


df['diet_type'].unique()


df.to_csv("../data/clean/clean_data.csv", index=False)



