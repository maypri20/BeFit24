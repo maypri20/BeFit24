{
 "cells": [
  {
   "cell_type": "code",
   "execution_count": null,
   "id": "124fc0a3-dfa9-4748-a15d-cca7a610c93b",
   "metadata": {},
   "outputs": [],
   "source": [
    "import pandas as pd\n",
    "import yaml\n",
    "\n",
    "try:\n",
    "    with open(\"../config.yaml\", \"r\") as file:\n",
    "        config = yaml.safe_load(file)\n",
    "except:\n",
    "    print(\"Yaml configuration file not found!\")\n",
    "\n",
    "df = pd.read_csv(config['input_data']['file'])\n",
    "df"
   ]
  },
  {
   "cell_type": "code",
   "execution_count": null,
   "id": "cf801b5d-1540-4daf-9856-969edf50c485",
   "metadata": {},
   "outputs": [],
   "source": [
    "df.info()"
   ]
  },
  {
   "cell_type": "code",
   "execution_count": null,
   "id": "4a728fb5-7ec1-48c0-af0e-dcccedf224e9",
   "metadata": {},
   "outputs": [],
   "source": [
    "df.duplicated().sum()"
   ]
  },
  {
   "cell_type": "code",
   "execution_count": null,
   "id": "cf75a06e-c412-428e-866a-366f73e552ff",
   "metadata": {},
   "outputs": [],
   "source": [
    "drop_cols = ['meal_name',\"rating\", \"bmi_calc_check\", \"water_intake_liters\", \"workout_frequency_days/week\", \"experience_level\", \"daily_meals_frequency\", \"physical_exercise\", \n",
    "    \"Name of Exercise\", \"Sets\", \"Reps\", \"Benefit\",\n",
    "    \"Burns Calories (per 30 min)\", \"Burns Calories (per 30 min)_bc\",\n",
    "    \"Target Muscle Group\", \"Equipment Needed\",\n",
    "    \"Difficulty Level\", \"Body Part\", \"Type of Muscle\", \"Workout\",\n",
    "    \"serving_size_g\", \"cooking_method\", \"prep_time_min\", \"cook_time_min\",\n",
    "    \"BMI_calc\", \"cal_from_macros\", \"pct_HRR\", \"pct_maxHR\",\n",
    "    \"expected_burn\", \"Burns_Calories_Bin\"\n",
    "]\n",
    "\n",
    "df = df.drop(columns=drop_cols, errors=\"ignore\")"
   ]
  },
  {
   "cell_type": "code",
   "execution_count": null,
   "id": "3af05b25-5ded-4358-8850-d78df8bf80ff",
   "metadata": {},
   "outputs": [],
   "source": [
    "#renaming columns, removing spaces and paranthesis\n",
    "df.columns = (df.columns.str.strip().str.lower().str.replace(\" \", \"_\").str.replace(\"[()]\", \"\", regex=True))\n",
    "df.head()"
   ]
  },
  {
   "cell_type": "code",
   "execution_count": null,
   "id": "efdf222b-4606-4e4b-bd86-4dadae0d54b5",
   "metadata": {},
   "outputs": [],
   "source": [
    "for col in [\"gender\", \"diet_type\", \"meal_type\", \"workout_type\"]:\n",
    "    df[col] = df[col].str.strip().str.title()"
   ]
  },
  {
   "cell_type": "code",
   "execution_count": null,
   "id": "a03c3969-2b61-4a1f-83e4-ab64e69e7b91",
   "metadata": {},
   "outputs": [],
   "source": [
    "#df[\"bmi_calc_check\"] = (df[\"weight_kg\"] / (df[\"height_m\"] ** 2)).round(2)\n",
    "#df[[\"bmi\", \"bmi_calc_check\"]].head()"
   ]
  },
  {
   "cell_type": "code",
   "execution_count": null,
   "id": "1c6530cc-fd15-4293-819d-a03aab5ffea5",
   "metadata": {},
   "outputs": [],
   "source": [
    "df.describe().T"
   ]
  },
  {
   "cell_type": "code",
   "execution_count": null,
   "id": "1c44c931-d033-417e-af8c-cab77c19cf38",
   "metadata": {},
   "outputs": [],
   "source": [
    "# Convert age to integer safely\n",
    "df[\"age\"] = df[\"age\"].fillna(0).astype(int)"
   ]
  },
  {
   "cell_type": "code",
   "execution_count": null,
   "id": "26909cff-f536-4f64-8f2a-37f01dbca1c2",
   "metadata": {},
   "outputs": [],
   "source": [
    "df.info()"
   ]
  },
  {
   "cell_type": "code",
   "execution_count": null,
   "id": "61d8413c-43c7-412e-8535-d31ba76bb646",
   "metadata": {},
   "outputs": [],
   "source": [
    "df"
   ]
  },
  {
   "cell_type": "code",
   "execution_count": null,
   "id": "dfd565c8-3117-47c8-9c59-2704f7c369da",
   "metadata": {},
   "outputs": [],
   "source": [
    "df['meal_type'].unique()"
   ]
  },
  {
   "cell_type": "code",
   "execution_count": null,
   "id": "d9f26317-24b6-40d0-978a-993d8bf1f4dc",
   "metadata": {},
   "outputs": [],
   "source": [
    "df['diet_type'].unique()"
   ]
  },
  {
   "cell_type": "code",
   "execution_count": null,
   "id": "851b1e90-ee40-4bf3-bb0a-73c3ac430409",
   "metadata": {},
   "outputs": [],
   "source": [
    "df.to_csv(\"../data/clean/clean_data.csv\", index=False)"
   ]
  },
  {
   "cell_type": "code",
   "execution_count": null,
   "id": "52cfcaaf-81c2-4ddd-999c-cbdc1d3538aa",
   "metadata": {},
   "outputs": [],
   "source": []
  }
 ],
 "metadata": {
  "kernelspec": {
   "display_name": "Python [conda env:base] *",
   "language": "python",
   "name": "conda-base-py"
  },
  "language_info": {
   "codemirror_mode": {
    "name": "ipython",
    "version": 3
   },
   "file_extension": ".py",
   "mimetype": "text/x-python",
   "name": "python",
   "nbconvert_exporter": "python",
   "pygments_lexer": "ipython3",
   "version": "3.13.5"
  }
 },
 "nbformat": 4,
 "nbformat_minor": 5
}
