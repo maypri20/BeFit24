{
 "cells": [
  {
   "cell_type": "code",
   "execution_count": 1,
   "id": "fa390948-b475-4b16-8740-7de72765ef8c",
   "metadata": {},
   "outputs": [],
   "source": [
    "import pandas as pd\n",
    "import numpy as np\n",
    "import yaml\n",
    "\n",
    "try:\n",
    "    with open(\"../config.yaml\", \"r\") as file:\n",
    "        config = yaml.safe_load(file)\n",
    "except:\n",
    "    print(\"Yaml configuration file not found!\")\n",
    "\n",
    "df = pd.read_csv(config['output_data']['file'])"
   ]
  },
  {
   "cell_type": "code",
   "execution_count": 3,
   "id": "8a9c8060-7c6d-4a3e-a11e-6cdd88c0cc64",
   "metadata": {},
   "outputs": [
    {
     "name": "stdout",
     "output_type": "stream",
     "text": [
      "/Users/priyanka/Documents/IronHack/Project/FinalProject/Final_project/.venv/bin/python: No module named pip\n",
      "Note: you may need to restart the kernel to use updated packages.\n"
     ]
    }
   ],
   "source": [
    "pip install gower"
   ]
  },
  {
   "cell_type": "code",
   "execution_count": null,
   "id": "b22353d5-ca69-46cc-abc4-2f804038b06d",
   "metadata": {},
   "outputs": [],
   "source": []
  }
 ],
 "metadata": {
  "kernelspec": {
   "display_name": "venv",
   "language": "python",
   "name": "venv"
  },
  "language_info": {
   "codemirror_mode": {
    "name": "ipython",
    "version": 3
   },
   "file_extension": ".py",
   "mimetype": "text/x-python",
   "name": "python",
   "nbconvert_exporter": "python",
   "pygments_lexer": "ipython3",
   "version": "3.13.5"
  }
 },
 "nbformat": 4,
 "nbformat_minor": 5
}
